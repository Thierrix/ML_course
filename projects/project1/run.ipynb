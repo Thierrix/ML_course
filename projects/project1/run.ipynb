{
 "cells": [
  {
   "cell_type": "code",
   "execution_count": 1,
   "metadata": {},
   "outputs": [],
   "source": [
    "import numpy as np\n",
    "import matplotlib.pyplot as plt\n",
    "from helpers import *\n",
    "from cleaning_data import *\n",
    "from stats import *\n",
    "from functions import *\n",
    "from utils import split_data, downsample_class_0, upsample_class_1_to_percentage\n",
    "from functions import *\n",
    "import datetime\n",
    "import seaborn as sns\n",
    "from optimization.graphs import *\n",
    "%load_ext autoreload\n",
    "%autoreload 2\n"
   ]
  },
  {
   "cell_type": "code",
   "execution_count": 2,
   "metadata": {},
   "outputs": [
    {
     "data": {
      "text/plain": [
       "'Id'"
      ]
     },
     "execution_count": 2,
     "metadata": {},
     "output_type": "execute_result"
    }
   ],
   "source": [
    "DATA_PATH = '/Users/williamjallot/Desktop/ML/dataset'\n",
    "x_train, x_test, y_train, train_ids, test_ids, labels =  load_csv_data(DATA_PATH, sub_sample=False)\n",
    "labels.pop(0) "
   ]
  },
  {
   "cell_type": "code",
   "execution_count": 3,
   "metadata": {},
   "outputs": [],
   "source": [
    "#Split the data into training and testing\n",
    "x_tr, x_te, y_tr, y_te = split_data(x_train, y_train, 0.8, seed= 2)"
   ]
  },
  {
   "cell_type": "code",
   "execution_count": 4,
   "metadata": {},
   "outputs": [
    {
     "ename": "ValueError",
     "evalue": "too many values to unpack (expected 7)",
     "output_type": "error",
     "traceback": [
      "\u001b[0;31m---------------------------------------------------------------------------\u001b[0m",
      "\u001b[0;31mValueError\u001b[0m                                Traceback (most recent call last)",
      "Cell \u001b[0;32mIn[4], line 1\u001b[0m\n\u001b[0;32m----> 1\u001b[0m x_train_cleaned, y_tr_cleaned, features, median_and_most_probable_class, W, mean, x_before_outliers \u001b[38;5;241m=\u001b[39m clean_train_data(x_tr, y_tr,labels, \u001b[38;5;241m0.2\u001b[39m, \u001b[38;5;241m1\u001b[39m, \u001b[38;5;241m0.995\u001b[39m, \u001b[38;5;241m1\u001b[39m, \u001b[38;5;241m0.6\u001b[39m)\n",
      "\u001b[0;31mValueError\u001b[0m: too many values to unpack (expected 7)"
     ]
    }
   ],
   "source": [
    "#R\n",
    "x_train_cleaned, y_tr_cleaned, features, median_and_most_probable_class, W, mean_pca, mean, std_dev,  = clean_train_data(x_tr, y_tr,labels, 0.2, 1, 0.995, 1, 0.6)"
   ]
  },
  {
   "cell_type": "code",
   "execution_count": 81,
   "metadata": {},
   "outputs": [
    {
     "name": "stderr",
     "output_type": "stream",
     "text": [
      "/var/folders/fv/f56ltf0x04g0yp86bf3wx6w80000gn/T/ipykernel_2732/1825980835.py:13: UserWarning: Matplotlib is currently using pdf, which is a non-GUI backend, so cannot show the figure.\n",
      "  plt.show()\n"
     ]
    }
   ],
   "source": [
    "# Assuming y_train is a numpy array\n",
    "# Count the unique values and their frequencies\n",
    "unique_classes, class_counts = np.unique(y_tr, return_counts=True)/y_tr.shape[0]\n",
    "\n",
    "# Plot the class distribution\n",
    "plt.figure(figsize=(6,4))\n",
    "plt.bar(unique_classes, class_counts, color=['blue', 'red'])\n",
    "plt.title('Class Distribution in y_train')\n",
    "plt.xlabel('Classes')\n",
    "plt.ylabel('Frequency')\n",
    "plt.xticks(unique_classes)\n",
    "plt.savefig('images/data_imbalance.png')\n",
    "plt.show()"
   ]
  },
  {
   "cell_type": "code",
   "execution_count": 77,
   "metadata": {},
   "outputs": [
    {
     "name": "stderr",
     "output_type": "stream",
     "text": [
      "/var/folders/fv/f56ltf0x04g0yp86bf3wx6w80000gn/T/ipykernel_2732/604338762.py:12: UserWarning: Matplotlib is currently using pdf, which is a non-GUI backend, so cannot show the figure.\n",
      "  plt.show()\n"
     ]
    }
   ],
   "source": [
    "plt.figure(figsize=(12, 6))\n",
    "sns.set_theme(style=\"whitegrid\")\n",
    "\n",
    "# Plot the box plot with Seaborn\n",
    "sns.boxplot(data=x_before_outliers)\n",
    "\n",
    "# Set plot labels and title\n",
    "plt.title(\"Box Plot of All Features Before Outliers removal\")\n",
    "plt.xlabel(\"Features\")\n",
    "plt.ylabel(\"Value Range\")\n",
    "plt.gca().set_xticklabels([])\n",
    "plt.show()\n",
    "plt.savefig('images/before_outliers.png')"
   ]
  },
  {
   "cell_type": "code",
   "execution_count": 78,
   "metadata": {},
   "outputs": [
    {
     "name": "stderr",
     "output_type": "stream",
     "text": [
      "/var/folders/fv/f56ltf0x04g0yp86bf3wx6w80000gn/T/ipykernel_2732/2341763351.py:13: UserWarning: Matplotlib is currently using pdf, which is a non-GUI backend, so cannot show the figure.\n",
      "  plt.show()\n"
     ]
    }
   ],
   "source": [
    "plt.figure(figsize=(12, 6))\n",
    "sns.set(style=\"whitegrid\")\n",
    "\n",
    "# Plot the box plot with Seaborn\n",
    "sns.boxplot(data=x_train_cleaned)\n",
    "\n",
    "# Set plot labels and title\n",
    "plt.ylim(-150, 150)\n",
    "plt.title(\"Box Plot of All Features After Outliers removal\")\n",
    "plt.xlabel(\"Features\")\n",
    "plt.ylabel(\"Value Range\")\n",
    "plt.xticks([])\n",
    "plt.show()\n",
    "plt.savefig('images/after_outliers.png')"
   ]
  },
  {
   "cell_type": "code",
   "execution_count": 145,
   "metadata": {},
   "outputs": [
    {
     "name": "stdout",
     "output_type": "stream",
     "text": [
      "Beginning grid search with k-fold cross-validation\n",
      "Grid creation completed\n",
      "Step 1/1\n",
      "F1 score of 0.17420973960644476, gamma = 0.5, up_sampling_percentage = 0.2, degree = 1, variance_threshold = 0.99, lambda = 0.01, outlier limit = 0.7, max_iter = 300, threshold = 0.4, nan percentage = 1, nan handling = numeric\n",
      "Finished!\n"
     ]
    }
   ],
   "source": [
    "# Define hyperparameters in a dictionary\n",
    "hyperparameters = {\n",
    "    \"lambdas\": [0.01],\n",
    "    \"up_sampling_percentages\": [0.2],\n",
    "    \"degrees\": [1],\n",
    "    \"variances_threshold\": [0.99],\n",
    "    \"decision_threshold\": [0.4],\n",
    "    \"acceptable_nan_percentages\": [1],\n",
    "    \"max_iters\": [300],\n",
    "    \"outliers_row_limit\": [0.7],\n",
    "    \"gammas\": [0.5],\n",
    "    \"nan_handlers\": ['numeric']\n",
    "}\n",
    "\n",
    "\n",
    "k_fold = 4\n",
    "\n",
    "\n",
    "best_params = grid_search_k_fold_logistic(y_tr, x_tr, k_fold, hyperparameters, labels)\n",
    "\n",
    "# Unpack the best parameters\n",
    "best_gamma = best_params['gamma']\n",
    "best_up_sampling_percentage = best_params['up_sampling_percentage']\n",
    "best_degree = best_params['degree']\n",
    "best_variance_threshold = best_params['variance_threshold']\n",
    "best_lambda = best_params['lambda_']\n",
    "best_max_iter = best_params['max_iter']\n",
    "best_threshold = best_params['threshold']\n",
    "best_nan_percentage = best_params['acceptable_nan_percentage']\n",
    "best_outlier_limit = best_params['outlier_limit']\n",
    "best_nan_handler = best_params['nan_handling']\n"
   ]
  },
  {
   "cell_type": "code",
   "execution_count": 152,
   "metadata": {},
   "outputs": [
    {
     "name": "stdout",
     "output_type": "stream",
     "text": [
      "The best parameters that yield a f1 score of 0.414297040192062 are gamma = 0.5, up_sampling_percentage = 0.2, degree = 1, variance_treshold = 0.99, lambda = 0.01, threshold = 0.4,max_iter = 300, best nan percentage = 1\n"
     ]
    }
   ],
   "source": [
    "print(f'The best parameters are gamma = {best_gamma}, up_sampling_percentage = {best_up_sampling_percentage}, degree = {best_degree}, variance_treshold = {best_variance_threshold}, lambda = {best_lambda}, threshold = {best_threshold},max_iter = {best_max_iter}, best nan percentage = {best_nan_percentage}')"
   ]
  },
  {
   "cell_type": "code",
   "execution_count": 154,
   "metadata": {},
   "outputs": [],
   "source": [
    "x_train_cleaned, y_tr_cleaned, features, median_and_most_probable_class, W, mean_pca, mean, std_dev = clean_train_data(x_tr, y_tr,labels, best_up_sampling_percentage, best_degree, best_variance_threshold, best_nan_percentage, 0.6)"
   ]
  },
  {
   "cell_type": "code",
   "execution_count": 155,
   "metadata": {},
   "outputs": [
    {
     "name": "stdout",
     "output_type": "stream",
     "text": [
      "[[ 1.00000000e+00 -2.88159928e+00  1.00000000e+00 ... -5.66700145e-03\n",
      "   1.00000000e+00 -5.93155418e-02]\n",
      " [ 1.00000000e+00  1.14868266e+01  1.00000000e+00 ... -1.38268665e-01\n",
      "   1.00000000e+00 -4.11045030e-01]\n",
      " [ 1.00000000e+00 -1.17491157e+00  1.00000000e+00 ...  2.01988183e-01\n",
      "   1.00000000e+00  1.00031779e+00]\n",
      " ...\n",
      " [ 1.00000000e+00  1.13437460e+01  1.00000000e+00 ...  4.87617011e-02\n",
      "   1.00000000e+00  3.53803310e-01]\n",
      " [ 1.00000000e+00 -3.08019941e-01  1.00000000e+00 ... -6.39563414e-02\n",
      "   1.00000000e+00 -4.06868898e-01]\n",
      " [ 1.00000000e+00 -4.63479618e-01  1.00000000e+00 ...  8.14017958e-01\n",
      "   1.00000000e+00  1.00214054e-01]]\n"
     ]
    }
   ],
   "source": []
  },
  {
   "cell_type": "code",
   "execution_count": 149,
   "metadata": {},
   "outputs": [],
   "source": [
    "x_te_cleaned = clean_test_data(x_te, labels, features, median_and_most_probable_class, mean_pca, W, best_degree, mean, std_dev)"
   ]
  },
  {
   "cell_type": "code",
   "execution_count": 150,
   "metadata": {},
   "outputs": [],
   "source": [
    "# Parameters for the Gaussian distribution\n",
    "mean = 0    # Mean of the distribution\n",
    "std_dev = 1 # Standard deviation of the distribution\n",
    "\n",
    "num_samples = x_train_cleaned.shape[0]\n",
    "tx = np.c_[np.ones(num_samples), x_train_cleaned]\n",
    "w_initial = np.random.normal(loc=mean, scale=std_dev, size=tx.shape[1])\n",
    "\n",
    "\n",
    "w, loss = reg_logistic_regression(y_tr_cleaned, tx, best_lambda ,w_initial, best_max_iter, best_gamma)"
   ]
  },
  {
   "cell_type": "code",
   "execution_count": 151,
   "metadata": {},
   "outputs": [],
   "source": [
    "num_samples = x_te_cleaned.shape[0]\n",
    "tx_te = np.c_[np.ones(num_samples), x_te_cleaned]\n",
    "y_predict = predict(tx_te, w, best_threshold)\n",
    "f1_score_te = f1_score(y_te, y_predict)"
   ]
  },
  {
   "cell_type": "code",
   "execution_count": 139,
   "metadata": {},
   "outputs": [
    {
     "name": "stdout",
     "output_type": "stream",
     "text": [
      "0.22375888585430104\n"
     ]
    }
   ],
   "source": [
    "print(f1_score_te)"
   ]
  },
  {
   "cell_type": "code",
   "execution_count": 11,
   "metadata": {},
   "outputs": [],
   "source": [
    "x_test_cleaned = clean_test_data(x_test, labels, features, median_and_most_probable_class, mean, W, best_degree)\n",
    "num_samples = x_te.shape[0]\n",
    "tx_te = np.c_[np.ones(num_samples), x_te_cleaned]"
   ]
  },
  {
   "cell_type": "code",
   "execution_count": 12,
   "metadata": {},
   "outputs": [],
   "source": [
    "num_samples = x_test_cleaned.shape[0]\n",
    "tx_test = np.c_[np.ones(num_samples), x_test_cleaned]\n",
    "y_test_to_save = predict(tx_test, ws[-1], best_threshold)"
   ]
  },
  {
   "cell_type": "code",
   "execution_count": 13,
   "metadata": {},
   "outputs": [],
   "source": [
    "# Stack the ids and predictions together column-wise\n",
    "submit = np.column_stack((test_ids, y_test_to_save))\n",
    "\n",
    "# Save to a CSV file using np.savetxt\n",
    "np.savetxt(\"/Users/williamjallot/Desktop/ML/dataset/sample_submission.csv\", submit, delimiter=\",\", fmt='%d,%d', header='Id,Prediction', comments='')"
   ]
  }
 ],
 "metadata": {
  "kernelspec": {
   "display_name": "project1-grading",
   "language": "python",
   "name": "python3"
  },
  "language_info": {
   "codemirror_mode": {
    "name": "ipython",
    "version": 3
   },
   "file_extension": ".py",
   "mimetype": "text/x-python",
   "name": "python",
   "nbconvert_exporter": "python",
   "pygments_lexer": "ipython3",
   "version": "3.9.18"
  }
 },
 "nbformat": 4,
 "nbformat_minor": 4
}
