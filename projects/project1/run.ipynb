{
 "cells": [
  {
   "cell_type": "code",
   "execution_count": 363,
   "metadata": {},
   "outputs": [
    {
     "name": "stdout",
     "output_type": "stream",
     "text": [
      "The autoreload extension is already loaded. To reload it, use:\n",
      "  %reload_ext autoreload\n"
     ]
    }
   ],
   "source": [
    "import numpy as np\n",
    "import matplotlib.pyplot as plt\n",
    "from helpers import *\n",
    "from cleaning_data import *\n",
    "from stats import *\n",
    "from functions import *\n",
    "from clean_data_testing import *\n",
    "from utils import split_data, stratified_train_test_split, downsample_class_0\n",
    "import datetime\n",
    "import seaborn as sns\n",
    "%load_ext autoreload\n",
    "%autoreload 2"
   ]
  },
  {
   "cell_type": "code",
   "execution_count": 364,
   "metadata": {},
   "outputs": [],
   "source": [
    "from functions import *"
   ]
  },
  {
   "cell_type": "code",
   "execution_count": 365,
   "metadata": {},
   "outputs": [],
   "source": [
    "from clean_data_testing import *"
   ]
  },
  {
   "cell_type": "code",
   "execution_count": 366,
   "metadata": {},
   "outputs": [
    {
     "data": {
      "text/plain": [
       "'Id'"
      ]
     },
     "execution_count": 366,
     "metadata": {},
     "output_type": "execute_result"
    }
   ],
   "source": [
    "DATA_PATH = '/Users/williamjallot/Desktop/ML/dataset'\n",
    "x_train, x_test, y_train, train_ids, test_ids, labels =  load_csv_data(DATA_PATH, sub_sample=False)\n",
    "labels.pop(0) "
   ]
  },
  {
   "cell_type": "code",
   "execution_count": 367,
   "metadata": {},
   "outputs": [],
   "source": [
    "x_tr, x_te, y_tr, y_te = split_data(x_train, y_train, 0.8, seed= 42)"
   ]
  },
  {
   "cell_type": "code",
   "execution_count": 368,
   "metadata": {},
   "outputs": [],
   "source": [
    "y_tr[y_tr == -1] = 0"
   ]
  },
  {
   "cell_type": "code",
   "execution_count": 369,
   "metadata": {},
   "outputs": [],
   "source": [
    "def calculate_downsample_size(N_pos, N_neg, desired_percentage):\n",
    "    # Calculate the required downsample size for the negative class\n",
    "    downsample_size_neg = int((N_pos * (1 - desired_percentage)) / desired_percentage)\n",
    "    \n",
    "    # Ensure we do not downsample more than available negative samples\n",
    "    downsample_size_neg = min(downsample_size_neg, N_neg)\n",
    "    \n",
    "    return downsample_size_neg"
   ]
  },
  {
   "cell_type": "code",
   "execution_count": 370,
   "metadata": {},
   "outputs": [],
   "source": [
    "N_pos = len(np.where(y_tr == 1)[0])\n",
    "N_neg = len(np.where(y_tr == 0)[0])"
   ]
  },
  {
   "cell_type": "code",
   "execution_count": 371,
   "metadata": {},
   "outputs": [],
   "source": [
    "down_sampling_size = calculate_downsample_size(N_pos, N_neg, 0.25)"
   ]
  },
  {
   "cell_type": "code",
   "execution_count": 372,
   "metadata": {},
   "outputs": [],
   "source": [
    "x_tr_ds, y_tr_ds = downsample_class_0(x_tr, y_tr, down_sampling_size)"
   ]
  },
  {
   "cell_type": "code",
   "execution_count": 373,
   "metadata": {},
   "outputs": [
    {
     "data": {
      "text/plain": [
       "(92300, 321)"
      ]
     },
     "execution_count": 373,
     "metadata": {},
     "output_type": "execute_result"
    }
   ],
   "source": [
    "x_tr_ds.shape"
   ]
  },
  {
   "cell_type": "code",
   "execution_count": 401,
   "metadata": {},
   "outputs": [],
   "source": [
    "x_train_cleaned, features,median_and_most_probable_class  = clean_data_x(x_tr_ds, labels)\n",
    "\n",
    "    \n",
    "np.savetxt(\"/Users/williamjallot/Desktop/ML/dataset/x_trained.cleaned.csv\", x_train_cleaned, delimiter=\",\")"
   ]
  },
  {
   "cell_type": "code",
   "execution_count": 402,
   "metadata": {},
   "outputs": [],
   "source": [
    "x_te_cleaned = clean_data_testing(x_te, labels, features, median_and_most_probable_class)"
   ]
  },
  {
   "cell_type": "code",
   "execution_count": 411,
   "metadata": {},
   "outputs": [],
   "source": [
    "max_iters = 100000\n",
    "gamma = 0.01\n",
    "batch_size = 32\n",
    "lambda_ =  0.005\n",
    "num_samples = x_train_cleaned.shape[0]\n",
    "\n",
    "\n",
    "\n",
    "# Parameters for the Gaussian distribution\n",
    "mean = 0    # Mean of the distribution\n",
    "std_dev = 1 # Standard deviation of the distribution\n",
    "\n",
    "tx = np.c_[np.ones(num_samples), x_train_cleaned]\n",
    "w_initial = np.random.normal(loc=mean, scale=std_dev, size=tx.shape[1])\n",
    "\n",
    "\n",
    "sgd_losses, sgd_ws = stochastic_gradient_descent(\n",
    "y_tr_ds, tx, w_initial, batch_size, max_iters, gamma, lambda_\n",
    ")\n"
   ]
  },
  {
   "cell_type": "code",
   "execution_count": 412,
   "metadata": {},
   "outputs": [],
   "source": [
    "num_samples = x_te.shape[0]\n",
    "tx_te = np.c_[np.ones(num_samples), x_te_cleaned]\n",
    "y_predict = predict(y_te, tx_te, sgd_ws[-1])"
   ]
  },
  {
   "cell_type": "code",
   "execution_count": 413,
   "metadata": {},
   "outputs": [
    {
     "data": {
      "text/plain": [
       "0.8256510277782011"
      ]
     },
     "execution_count": 413,
     "metadata": {},
     "output_type": "execute_result"
    }
   ],
   "source": [
    "accuracy(y_te, y_predict)"
   ]
  },
  {
   "cell_type": "code",
   "execution_count": 414,
   "metadata": {},
   "outputs": [
    {
     "data": {
      "text/plain": [
       "(0.26446387246078684, 0.34864406779661017)"
      ]
     },
     "execution_count": 414,
     "metadata": {},
     "output_type": "execute_result"
    }
   ],
   "source": [
    "f1_score(y_te, y_predict)"
   ]
  },
  {
   "cell_type": "code",
   "execution_count": null,
   "metadata": {},
   "outputs": [],
   "source": []
  },
  {
   "cell_type": "code",
   "execution_count": null,
   "metadata": {},
   "outputs": [],
   "source": []
  }
 ],
 "metadata": {
  "kernelspec": {
   "display_name": "Python 3 (ipykernel)",
   "language": "python",
   "name": "python3"
  },
  "language_info": {
   "codemirror_mode": {
    "name": "ipython",
    "version": 3
   },
   "file_extension": ".py",
   "mimetype": "text/x-python",
   "name": "python",
   "nbconvert_exporter": "python",
   "pygments_lexer": "ipython3",
   "version": "3.11.8"
  }
 },
 "nbformat": 4,
 "nbformat_minor": 4
}
