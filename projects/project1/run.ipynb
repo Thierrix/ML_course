{
 "cells": [
  {
   "cell_type": "code",
   "execution_count": 624,
   "metadata": {},
   "outputs": [
    {
     "name": "stdout",
     "output_type": "stream",
     "text": [
      "The autoreload extension is already loaded. To reload it, use:\n",
      "  %reload_ext autoreload\n"
     ]
    }
   ],
   "source": [
    "import numpy as np\n",
    "import matplotlib.pyplot as plt\n",
    "from helpers import *\n",
    "from cleaning_data import *\n",
    "from stats import *\n",
    "from functions import *\n",
    "from clean_data_testing import *\n",
    "from utils import split_data, stratified_train_test_split\n",
    "import datetime\n",
    "import seaborn as sns\n",
    "%load_ext autoreload\n",
    "%autoreload 2"
   ]
  },
  {
   "cell_type": "code",
   "execution_count": 622,
   "metadata": {},
   "outputs": [],
   "source": [
    "from functions import *"
   ]
  },
  {
   "cell_type": "code",
   "execution_count": 623,
   "metadata": {},
   "outputs": [],
   "source": [
    "from clean_data_testing import *"
   ]
  },
  {
   "cell_type": "code",
   "execution_count": 625,
   "metadata": {},
   "outputs": [
    {
     "data": {
      "text/plain": [
       "'Id'"
      ]
     },
     "execution_count": 625,
     "metadata": {},
     "output_type": "execute_result"
    }
   ],
   "source": [
    "DATA_PATH = '/Users/williamjallot/Desktop/ML/dataset'\n",
    "x_train, x_test, y_train, train_ids, test_ids, labels =  load_csv_data(DATA_PATH, sub_sample=False)\n",
    "labels.pop(0) "
   ]
  },
  {
   "cell_type": "code",
   "execution_count": 626,
   "metadata": {},
   "outputs": [],
   "source": [
    "x_tr, x_te, y_tr, y_te = stratified_train_test_split(x_train, y_train, test_size=0.2, random_seed= 42)"
   ]
  },
  {
   "cell_type": "code",
   "execution_count": 739,
   "metadata": {},
   "outputs": [],
   "source": [
    "x_train_cleaned, features,median_and_most_probable_class  = clean_data_x(x_tr, labels)\n",
    "\n",
    "    \n",
    "np.savetxt(\"/Users/williamjallot/Desktop/ML/dataset/x_trained.cleaned.csv\", x_train_cleaned, delimiter=\",\")"
   ]
  },
  {
   "cell_type": "code",
   "execution_count": 740,
   "metadata": {},
   "outputs": [],
   "source": [
    "x_te_cleaned = clean_data_testing(x_te, labels, features, median_and_most_probable_class)"
   ]
  },
  {
   "cell_type": "code",
   "execution_count": 741,
   "metadata": {},
   "outputs": [
    {
     "name": "stdout",
     "output_type": "stream",
     "text": [
      "(262508, 20)\n"
     ]
    }
   ],
   "source": [
    "print(x_train_cleaned.shape)"
   ]
  },
  {
   "cell_type": "code",
   "execution_count": 742,
   "metadata": {},
   "outputs": [],
   "source": [
    "def slice_data(x_train, y_train, num_slices):\n",
    "    # Determine the size of each slice for both training and test sets\n",
    "     # Shuffle indices for training data\n",
    "    np.random.seed(42)\n",
    "    train_indices = np.random.permutation(len(x_train))\n",
    "\n",
    "    x_train_shuffled = x_train[train_indices]\n",
    "    y_train_shuffled = y_train[train_indices]\n",
    "    train_slice_size = len(x_train) // num_slices\n",
    "    x_train_slices = [x_train_shuffled[i * train_slice_size: (i + 1) * train_slice_size] for i in range(num_slices)]\n",
    "    y_train_slices = [y_train_shuffled[i * train_slice_size: (i + 1) * train_slice_size] for i in range(num_slices)]\n",
    "    \n",
    "    \n",
    "    return x_train_slices, y_train_slices"
   ]
  },
  {
   "cell_type": "code",
   "execution_count": 743,
   "metadata": {},
   "outputs": [],
   "source": [
    "num_samples = x_train_cleaned.shape[0]\n",
    "number_of_votes = 1\n",
    "tx = np.c_[np.ones(num_samples), x_train_cleaned]\n",
    "x_train_slices, y_train_slices = slice_data(tx, y_train, number_of_votes)"
   ]
  },
  {
   "cell_type": "code",
   "execution_count": 800,
   "metadata": {},
   "outputs": [],
   "source": [
    "max_iters = 1000\n",
    "gamma = 0.1\n",
    "batch_size = 64\n",
    "lambda_ =  0.05\n",
    "alpha = 1\n",
    "num_samples = x_train_cleaned.shape[0]\n",
    "\n",
    "\n",
    "\n",
    "# Parameters for the Gaussian distribution\n",
    "mean = 0    # Mean of the distribution\n",
    "std_dev = 1 # Standard deviation of the distribution\n",
    "\n",
    "\n",
    "w_initial = np.random.normal(loc=mean, scale=std_dev, size=tx.shape[1])\n",
    "w_list = []\n",
    "for i in range(number_of_votes) :\n",
    "    sgd_losses, sgd_ws = stochastic_gradient_descent(\n",
    "    y_train_slices[i], x_train_slices[i], w_initial, batch_size, max_iters, gamma, lambda_, alpha\n",
    "    )\n",
    "    w_list.append(sgd_ws[-1])"
   ]
  },
  {
   "cell_type": "code",
   "execution_count": 801,
   "metadata": {},
   "outputs": [],
   "source": [
    "def voting_system(model_list, tx_te) :\n",
    "    mean_predictions = 0\n",
    "    for model in model_list :\n",
    "        mean_predictions += sigmoid(tx_te@model)\n",
    "    y_predict = np.where(mean_predictions/len(model_list) >= 0.5, 1, -1)\n",
    "    return y_predict "
   ]
  },
  {
   "cell_type": "code",
   "execution_count": 802,
   "metadata": {},
   "outputs": [],
   "source": [
    "num_samples = x_te.shape[0]\n",
    "tx_te = np.c_[np.ones(num_samples), x_te_cleaned]\n",
    "y_predict = voting_system(w_list, tx_te)"
   ]
  },
  {
   "cell_type": "code",
   "execution_count": 803,
   "metadata": {},
   "outputs": [
    {
     "data": {
      "text/plain": [
       "0.9116674539442607"
      ]
     },
     "execution_count": 803,
     "metadata": {},
     "output_type": "execute_result"
    }
   ],
   "source": [
    "accuracy(y_te, y_predict)"
   ]
  },
  {
   "cell_type": "code",
   "execution_count": 804,
   "metadata": {},
   "outputs": [
    {
     "data": {
      "text/plain": [
       "(0.0003448870494912916, 0.0001725625539257981)"
      ]
     },
     "execution_count": 804,
     "metadata": {},
     "output_type": "execute_result"
    }
   ],
   "source": [
    "f1_score(y_te, y_predict)"
   ]
  },
  {
   "cell_type": "code",
   "execution_count": 769,
   "metadata": {},
   "outputs": [
    {
     "data": {
      "text/plain": [
       "19732"
      ]
     },
     "execution_count": 769,
     "metadata": {},
     "output_type": "execute_result"
    }
   ],
   "source": [
    "np.sum(y_predict  == 1)"
   ]
  },
  {
   "cell_type": "code",
   "execution_count": null,
   "metadata": {},
   "outputs": [],
   "source": []
  }
 ],
 "metadata": {
  "kernelspec": {
   "display_name": "Python 3 (ipykernel)",
   "language": "python",
   "name": "python3"
  },
  "language_info": {
   "codemirror_mode": {
    "name": "ipython",
    "version": 3
   },
   "file_extension": ".py",
   "mimetype": "text/x-python",
   "name": "python",
   "nbconvert_exporter": "python",
   "pygments_lexer": "ipython3",
   "version": "3.11.8"
  }
 },
 "nbformat": 4,
 "nbformat_minor": 4
}
