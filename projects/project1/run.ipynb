{
 "cells": [
  {
   "cell_type": "code",
   "execution_count": 2,
   "metadata": {},
   "outputs": [],
   "source": [
    "import numpy as np\n",
    "import matplotlib.pyplot as plt\n",
    "from helpers import *\n",
    "from cleaning_data import *\n",
    "from stats import *\n",
    "from functions import *\n",
    "from utils import split_data, downsample_class_0, upsample_class_1_to_percentage\n",
    "from functions import *\n",
    "import datetime\n",
    "import seaborn as sns\n",
    "from optimization.graphs import *\n",
    "%load_ext autoreload\n",
    "%autoreload 2\n"
   ]
  },
  {
   "cell_type": "code",
   "execution_count": 5,
   "metadata": {},
   "outputs": [
    {
     "data": {
      "text/plain": [
       "'Id'"
      ]
     },
     "execution_count": 5,
     "metadata": {},
     "output_type": "execute_result"
    }
   ],
   "source": [
    "DATA_PATH = '/Users/williamjallot/Desktop/ML/dataset'\n",
    "x_train, x_test, y_train, train_ids, test_ids, labels =  load_csv_data(DATA_PATH, sub_sample=False)\n",
    "labels.pop(0) "
   ]
  },
  {
   "cell_type": "code",
   "execution_count": 6,
   "metadata": {},
   "outputs": [],
   "source": [
    "#Split the data into training and testing\n",
    "x_tr, x_te, y_tr, y_te = split_data(x_train, y_train, 0.8, seed= 2)"
   ]
  },
  {
   "cell_type": "code",
   "execution_count": 7,
   "metadata": {},
   "outputs": [],
   "source": [
    "\n",
    "x_train_cleaned, y_tr_cleaned, features, median_and_most_probable_class, W, mean, x_before_outliers = clean_train_data(x_tr, y_tr,labels, 0.2, 1, 0.995, 1, 0.2)"
   ]
  },
  {
   "cell_type": "code",
   "execution_count": null,
   "metadata": {},
   "outputs": [],
   "source": [
    "plt.figure(figsize=(12, 6))\n",
    "sns.set(style=\"whitegrid\")\n",
    "\n",
    "# Plot the box plot with Seaborn\n",
    "sns.boxplot(data=x_before_outliers)\n",
    "\n",
    "# Set plot labels and title\n",
    "plt.title(\"Box Plot of All Features\")\n",
    "plt.xlabel(\"Features\")\n",
    "plt.ylabel(\"Value Range\")\n",
    "\n",
    "plt.show()"
   ]
  },
  {
   "cell_type": "code",
   "execution_count": null,
   "metadata": {},
   "outputs": [
    {
     "name": "stdout",
     "output_type": "stream",
     "text": [
      "Beginning grid search with k fold cross validation\n",
      "Step 1/36\n",
      "F1 score of 0.4142737446170952 for gamma = 0.5, up_sampling_percentage = 0.2, degree = 1, variance_treshold = 0.995, lambda = 0.01, outlier limit = 0.2, max_iter = 300, threshold = 0.47, nan percentage = 1, nan handling = numeric\n",
      "Step 2/36\n",
      "F1 score of 0.40960084366474536 for gamma = 0.5, up_sampling_percentage = 0.2, degree = 1, variance_treshold = 0.995, lambda = 0.01, outlier limit = 0.2, max_iter = 300, threshold = 0.47, nan percentage = 1, nan handling = median\n",
      "Step 3/36\n",
      "F1 score of 0.4089004491654195 for gamma = 0.5, up_sampling_percentage = 0.2, degree = 1, variance_treshold = 0.995, lambda = 0.01, outlier limit = 0.2, max_iter = 300, threshold = 0.47, nan percentage = 1, nan handling = mean\n",
      "Step 4/36\n",
      "F1 score of 0.4133644206851328 for gamma = 0.5, up_sampling_percentage = 0.2, degree = 1, variance_treshold = 0.995, lambda = 0.01, outlier limit = 0.1, max_iter = 300, threshold = 0.47, nan percentage = 1, nan handling = numeric\n",
      "Step 5/36\n",
      "F1 score of 0.40998974465842686 for gamma = 0.5, up_sampling_percentage = 0.2, degree = 1, variance_treshold = 0.995, lambda = 0.01, outlier limit = 0.1, max_iter = 300, threshold = 0.47, nan percentage = 1, nan handling = median\n",
      "Step 6/36\n",
      "F1 score of 0.40786849679385584 for gamma = 0.5, up_sampling_percentage = 0.2, degree = 1, variance_treshold = 0.995, lambda = 0.01, outlier limit = 0.1, max_iter = 300, threshold = 0.47, nan percentage = 1, nan handling = mean\n",
      "Step 7/36\n",
      "F1 score of 0.414025588900442 for gamma = 0.5, up_sampling_percentage = 0.2, degree = 1, variance_treshold = 0.995, lambda = 0.01, outlier limit = 0.3, max_iter = 300, threshold = 0.47, nan percentage = 1, nan handling = numeric\n",
      "Step 8/36\n",
      "F1 score of 0.40936959008458806 for gamma = 0.5, up_sampling_percentage = 0.2, degree = 1, variance_treshold = 0.995, lambda = 0.01, outlier limit = 0.3, max_iter = 300, threshold = 0.47, nan percentage = 1, nan handling = median\n",
      "Step 9/36\n",
      "F1 score of 0.4087181802538624 for gamma = 0.5, up_sampling_percentage = 0.2, degree = 1, variance_treshold = 0.995, lambda = 0.01, outlier limit = 0.3, max_iter = 300, threshold = 0.47, nan percentage = 1, nan handling = mean\n",
      "Step 10/36\n",
      "F1 score of 0.4011090149806909 for gamma = 0.5, up_sampling_percentage = 0.2, degree = 1, variance_treshold = 0.995, lambda = 0.02, outlier limit = 0.2, max_iter = 300, threshold = 0.47, nan percentage = 1, nan handling = numeric\n",
      "Step 11/36\n",
      "F1 score of 0.40680346312706217 for gamma = 0.5, up_sampling_percentage = 0.2, degree = 1, variance_treshold = 0.995, lambda = 0.02, outlier limit = 0.2, max_iter = 300, threshold = 0.47, nan percentage = 1, nan handling = median\n",
      "Step 12/36\n",
      "F1 score of 0.40657460117724564 for gamma = 0.5, up_sampling_percentage = 0.2, degree = 1, variance_treshold = 0.995, lambda = 0.02, outlier limit = 0.2, max_iter = 300, threshold = 0.47, nan percentage = 1, nan handling = mean\n",
      "Step 13/36\n",
      "F1 score of 0.4022235004976405 for gamma = 0.5, up_sampling_percentage = 0.2, degree = 1, variance_treshold = 0.995, lambda = 0.02, outlier limit = 0.1, max_iter = 300, threshold = 0.47, nan percentage = 1, nan handling = numeric\n",
      "Step 14/36\n",
      "F1 score of 0.4074558040967547 for gamma = 0.5, up_sampling_percentage = 0.2, degree = 1, variance_treshold = 0.995, lambda = 0.02, outlier limit = 0.1, max_iter = 300, threshold = 0.47, nan percentage = 1, nan handling = median\n",
      "Step 15/36\n",
      "F1 score of 0.4050832426870206 for gamma = 0.5, up_sampling_percentage = 0.2, degree = 1, variance_treshold = 0.995, lambda = 0.02, outlier limit = 0.1, max_iter = 300, threshold = 0.47, nan percentage = 1, nan handling = mean\n",
      "Step 16/36\n",
      "F1 score of 0.40273623288861093 for gamma = 0.5, up_sampling_percentage = 0.2, degree = 1, variance_treshold = 0.995, lambda = 0.02, outlier limit = 0.3, max_iter = 300, threshold = 0.47, nan percentage = 1, nan handling = numeric\n",
      "Step 17/36\n",
      "F1 score of 0.4077894982773723 for gamma = 0.5, up_sampling_percentage = 0.2, degree = 1, variance_treshold = 0.995, lambda = 0.02, outlier limit = 0.3, max_iter = 300, threshold = 0.47, nan percentage = 1, nan handling = median\n",
      "Step 18/36\n",
      "F1 score of 0.4063340200052429 for gamma = 0.5, up_sampling_percentage = 0.2, degree = 1, variance_treshold = 0.995, lambda = 0.02, outlier limit = 0.3, max_iter = 300, threshold = 0.47, nan percentage = 1, nan handling = mean\n",
      "Step 19/36\n",
      "F1 score of 0.4115383022777513 for gamma = 0.5, up_sampling_percentage = 0.22, degree = 1, variance_treshold = 0.995, lambda = 0.01, outlier limit = 0.2, max_iter = 300, threshold = 0.47, nan percentage = 1, nan handling = numeric\n",
      "Step 20/36\n",
      "F1 score of 0.40700278229138537 for gamma = 0.5, up_sampling_percentage = 0.22, degree = 1, variance_treshold = 0.995, lambda = 0.01, outlier limit = 0.2, max_iter = 300, threshold = 0.47, nan percentage = 1, nan handling = median\n",
      "Step 21/36\n",
      "F1 score of 0.40513172819729387 for gamma = 0.5, up_sampling_percentage = 0.22, degree = 1, variance_treshold = 0.995, lambda = 0.01, outlier limit = 0.2, max_iter = 300, threshold = 0.47, nan percentage = 1, nan handling = mean\n",
      "Step 22/36\n",
      "F1 score of 0.4116255580905541 for gamma = 0.5, up_sampling_percentage = 0.22, degree = 1, variance_treshold = 0.995, lambda = 0.01, outlier limit = 0.1, max_iter = 300, threshold = 0.47, nan percentage = 1, nan handling = numeric\n"
     ]
    },
    {
     "name": "stderr",
     "output_type": "stream",
     "text": [
      "/Users/williamjallot/Desktop/ML_course/projects/project1/implementations.py:73: RuntimeWarning: overflow encountered in exp\n",
      "  def neg_log_loss(y, tx, w):\n",
      "/Users/williamjallot/Desktop/ML_course/projects/project1/implementations.py:73: RuntimeWarning: invalid value encountered in divide\n",
      "  def neg_log_loss(y, tx, w):\n"
     ]
    },
    {
     "name": "stdout",
     "output_type": "stream",
     "text": [
      "Step 23/36\n",
      "F1 score of 0.3035003061318806 for gamma = 0.5, up_sampling_percentage = 0.22, degree = 1, variance_treshold = 0.995, lambda = 0.01, outlier limit = 0.1, max_iter = 300, threshold = 0.47, nan percentage = 1, nan handling = median\n",
      "Step 24/36\n",
      "F1 score of 0.4052144633010861 for gamma = 0.5, up_sampling_percentage = 0.22, degree = 1, variance_treshold = 0.995, lambda = 0.01, outlier limit = 0.1, max_iter = 300, threshold = 0.47, nan percentage = 1, nan handling = mean\n",
      "Step 25/36\n",
      "F1 score of 0.41212786096904475 for gamma = 0.5, up_sampling_percentage = 0.22, degree = 1, variance_treshold = 0.995, lambda = 0.01, outlier limit = 0.3, max_iter = 300, threshold = 0.47, nan percentage = 1, nan handling = numeric\n",
      "Step 26/36\n",
      "F1 score of 0.4071227013178711 for gamma = 0.5, up_sampling_percentage = 0.22, degree = 1, variance_treshold = 0.995, lambda = 0.01, outlier limit = 0.3, max_iter = 300, threshold = 0.47, nan percentage = 1, nan handling = median\n",
      "Step 27/36\n",
      "F1 score of 0.4070191650017115 for gamma = 0.5, up_sampling_percentage = 0.22, degree = 1, variance_treshold = 0.995, lambda = 0.01, outlier limit = 0.3, max_iter = 300, threshold = 0.47, nan percentage = 1, nan handling = mean\n",
      "Step 28/36\n",
      "F1 score of 0.3922306708171549 for gamma = 0.5, up_sampling_percentage = 0.22, degree = 1, variance_treshold = 0.995, lambda = 0.02, outlier limit = 0.2, max_iter = 300, threshold = 0.47, nan percentage = 1, nan handling = numeric\n",
      "Step 29/36\n",
      "F1 score of 0.4027761933602265 for gamma = 0.5, up_sampling_percentage = 0.22, degree = 1, variance_treshold = 0.995, lambda = 0.02, outlier limit = 0.2, max_iter = 300, threshold = 0.47, nan percentage = 1, nan handling = median\n",
      "Step 30/36\n",
      "F1 score of 0.4016312892957023 for gamma = 0.5, up_sampling_percentage = 0.22, degree = 1, variance_treshold = 0.995, lambda = 0.02, outlier limit = 0.2, max_iter = 300, threshold = 0.47, nan percentage = 1, nan handling = mean\n",
      "Step 31/36\n",
      "F1 score of 0.3923737066212305 for gamma = 0.5, up_sampling_percentage = 0.22, degree = 1, variance_treshold = 0.995, lambda = 0.02, outlier limit = 0.1, max_iter = 300, threshold = 0.47, nan percentage = 1, nan handling = numeric\n",
      "Step 32/36\n",
      "F1 score of 0.40211737533035563 for gamma = 0.5, up_sampling_percentage = 0.22, degree = 1, variance_treshold = 0.995, lambda = 0.02, outlier limit = 0.1, max_iter = 300, threshold = 0.47, nan percentage = 1, nan handling = median\n",
      "Step 33/36\n",
      "F1 score of 0.40191034329189534 for gamma = 0.5, up_sampling_percentage = 0.22, degree = 1, variance_treshold = 0.995, lambda = 0.02, outlier limit = 0.1, max_iter = 300, threshold = 0.47, nan percentage = 1, nan handling = mean\n"
     ]
    }
   ],
   "source": [
    "lambdas = [0.01, 0.02]\n",
    "up_sampling_percentages = [0.2, 0.22]\n",
    "degrees = [1]\n",
    "variances_threshold = [0.995]\n",
    "decision_threshold = [0.47]\n",
    "acceptable_nan_percentages = [1]\n",
    "max_iters = [300]\n",
    "outliers_row_limit = [0.2, 0.1, 0.3]\n",
    "gammas = [0.5]\n",
    "nan_handlers = ['numeric', 'median', 'mean']\n",
    "k_fold = 4\n",
    "\n",
    "best_gamma, best_up_sampling_percentage, best_degree, best_variance_threshold, best_lambda,best_max_iter, best_f1_score, best_threshold, best_nan_percentage, best_outlier_limit, best_nan_handler = grid_search_k_fold(y_tr, x_tr, k_fold, lambdas, gammas, up_sampling_percentages,\n",
    "                                                                                                                                                                                     degrees, variances_threshold, max_iters,decision_threshold, acceptable_nan_percentages,\n",
    "                                                                                                                                                                                     labels, outliers_row_limit, nan_handlers)"
   ]
  },
  {
   "cell_type": "code",
   "execution_count": 6,
   "metadata": {},
   "outputs": [
    {
     "name": "stdout",
     "output_type": "stream",
     "text": [
      "The best parameters that yield a f1 score of 0.41416896636362843 are gamma = 0.45, up_sampling_percentage = 0.2, degree = 1, variance_treshold = 0.995, lambda = 0.01, threshold = 0.47,max_iter = 300, best nan percentage = 1\n"
     ]
    }
   ],
   "source": [
    " print(f'The best parameters that yield a f1 score of {best_f1_score} are gamma = {best_gamma}, up_sampling_percentage = {best_up_sampling_percentage}, degree = {best_degree}, variance_treshold = {best_variance_threshold}, lambda = {best_lambda}, threshold = {best_threshold},max_iter = {best_max_iter}, best nan percentage = {best_nan_percentage}')"
   ]
  },
  {
   "cell_type": "code",
   "execution_count": 9,
   "metadata": {},
   "outputs": [],
   "source": [
    "x_train_cleaned, y_tr_cleaned, features, median_and_most_probable_class, W, mean = clean_train_data(x_tr, y_tr,labels, best_up_sampling_percentage, best_degree, best_variance_threshold, best_nan_percentage, best_outlier_limit)"
   ]
  },
  {
   "cell_type": "code",
   "execution_count": 10,
   "metadata": {},
   "outputs": [],
   "source": [
    "x_te_cleaned = clean_test_data(x_te, labels, features, median_and_most_probable_class, mean, W, best_degree)"
   ]
  },
  {
   "cell_type": "code",
   "execution_count": 11,
   "metadata": {},
   "outputs": [],
   "source": [
    "# Parameters for the Gaussian distribution\n",
    "mean = 0    # Mean of the distribution\n",
    "std_dev = 1 # Standard deviation of the distribution\n",
    "\n",
    "num_samples = x_train_cleaned.shape[0]\n",
    "tx = np.c_[np.ones(num_samples), x_train_cleaned]\n",
    "w_initial = np.random.normal(loc=mean, scale=std_dev, size=tx.shape[1])\n",
    "\n",
    "\n",
    "losses, ws = gradient_descent(y_tr_cleaned, tx ,w_initial, best_max_iter, best_gamma, best_lambda)"
   ]
  },
  {
   "cell_type": "code",
   "execution_count": 12,
   "metadata": {},
   "outputs": [],
   "source": [
    "num_samples = x_te_cleaned.shape[0]\n",
    "tx_te = np.c_[np.ones(num_samples), x_te_cleaned]\n",
    "y_predict = predict(tx_te, ws[-1], best_threshold)\n",
    "f1_score_te = f1_score(y_te, y_predict)"
   ]
  },
  {
   "cell_type": "code",
   "execution_count": 13,
   "metadata": {},
   "outputs": [
    {
     "name": "stdout",
     "output_type": "stream",
     "text": [
      "0.4160728424386382\n"
     ]
    }
   ],
   "source": [
    "print(f1_score_te)"
   ]
  },
  {
   "cell_type": "code",
   "execution_count": 11,
   "metadata": {},
   "outputs": [],
   "source": [
    "x_test_cleaned = clean_test_data(x_test, labels, features, median_and_most_probable_class, mean, W, best_degree)\n",
    "num_samples = x_te.shape[0]\n",
    "tx_te = np.c_[np.ones(num_samples), x_te_cleaned]"
   ]
  },
  {
   "cell_type": "code",
   "execution_count": 12,
   "metadata": {},
   "outputs": [],
   "source": [
    "num_samples = x_test_cleaned.shape[0]\n",
    "tx_test = np.c_[np.ones(num_samples), x_test_cleaned]\n",
    "y_test_to_save = predict(tx_test, ws[-1], best_threshold)"
   ]
  },
  {
   "cell_type": "code",
   "execution_count": 13,
   "metadata": {},
   "outputs": [],
   "source": [
    "# Stack the ids and predictions together column-wise\n",
    "submit = np.column_stack((test_ids, y_test_to_save))\n",
    "\n",
    "# Save to a CSV file using np.savetxt\n",
    "np.savetxt(\"/Users/williamjallot/Desktop/ML/dataset/sample_submission.csv\", submit, delimiter=\",\", fmt='%d,%d', header='Id,Prediction', comments='')"
   ]
  },
  {
   "cell_type": "markdown",
   "metadata": {},
   "source": [
    "The best parameters that yield a f1 score of 0.3947067098070202 are gamma = 0.5, up_sampling_percentage = 0.2, degree = 1, variance_treshold = 0.97, lambda = 0.01, max_iter = 300"
   ]
  },
  {
   "cell_type": "markdown",
   "metadata": {},
   "source": [
    "The best parameters that yield a f1 score of 0.40757941432083533 are gamma = 0.45, up_sampling_percentage = 0.2, degree = 1, variance_treshold = 0.99, lambda = 0.01, threshold = 0.465,max_iter = 300, best nan percentage = 0.6"
   ]
  },
  {
   "cell_type": "markdown",
   "metadata": {},
   "source": [
    "The best parameters that yield a f1 score of 0.40899345994682 are gamma = 0.45, up_sampling_percentage = 0.2, degree = 1, variance_treshold = 0.995, lambda = 0.01, threshold = 0.47,max_iter = 300, best nan percentage = 1"
   ]
  }
 ],
 "metadata": {
  "kernelspec": {
   "display_name": "project1-grading",
   "language": "python",
   "name": "python3"
  },
  "language_info": {
   "codemirror_mode": {
    "name": "ipython",
    "version": 3
   },
   "file_extension": ".py",
   "mimetype": "text/x-python",
   "name": "python",
   "nbconvert_exporter": "python",
   "pygments_lexer": "ipython3",
   "version": "3.9.18"
  }
 },
 "nbformat": 4,
 "nbformat_minor": 4
}
